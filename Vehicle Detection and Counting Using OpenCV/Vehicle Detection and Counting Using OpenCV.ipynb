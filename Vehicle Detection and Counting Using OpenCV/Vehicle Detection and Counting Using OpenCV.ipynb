{
 "cells": [
  {
   "cell_type": "code",
   "execution_count": 1,
   "id": "e6f39894",
   "metadata": {},
   "outputs": [],
   "source": [
    "import os\n",
    "\n",
    "# Move to you working path\n",
    "os.chdir(\"D:\\Programing\\Projects\\Computer Vision\\Vehicle Detection and Counting Using OpenCV\")"
   ]
  },
  {
   "cell_type": "code",
   "execution_count": 3,
   "id": "2a628a1d",
   "metadata": {},
   "outputs": [],
   "source": [
    "import cv2\n",
    "import numpy as np"
   ]
  },
  {
   "cell_type": "code",
   "execution_count": 6,
   "id": "70391fb1",
   "metadata": {},
   "outputs": [],
   "source": [
    "width_min = 80\n",
    "height_min = 80\n",
    "offset = 6\n",
    "ypos_line = 550\n",
    "\n",
    "detec = []\n",
    "\n",
    "def contour_center(x, y, w, h):\n",
    "    x1 = int(w / 2)\n",
    "    y1 = int(h / 2)\n",
    "    cx = x + x1\n",
    "    cy = y + y1\n",
    "    return cx, cy"
   ]
  },
  {
   "cell_type": "code",
   "execution_count": 14,
   "id": "d19deea7",
   "metadata": {},
   "outputs": [],
   "source": [
    "# video source input\n",
    "cap = cv2.VideoCapture('test.mp4')\n",
    "result = cv2.VideoWriter('output.mp4', cv2.VideoWriter_fourcc(*'XVID'), 30, (1280,720))\n",
    "\n",
    "BGS = cv2.bgsegm.createBackgroundSubtractorMOG()\n",
    "vehicles = 0\n",
    "\n",
    "\n",
    "while True:\n",
    "    \n",
    "    ret, frame = cap.read()\n",
    "    \n",
    "    if ret is not True:\n",
    "        break\n",
    "        \n",
    "    gray = cv2.cvtColor(frame, cv2.COLOR_BGR2GRAY)\n",
    "    blur = cv2.GaussianBlur(gray, (3,3), 5)\n",
    "    img_sub = BGS.apply(blur)\n",
    "    dilate = cv2.dilate(img_sub, np.ones((5,5)))\n",
    "    \n",
    "    contours, _ = cv2.findContours(dilate, cv2.RETR_TREE, cv2.CHAIN_APPROX_SIMPLE)\n",
    "    \n",
    "    cv2.line(frame, (25, ypos_line), (1200, ypos_line), (176, 130, 39), 2)\n",
    "    \n",
    "    for contour in contours:\n",
    "        (x, y, w, h) = cv2.boundingRect(contour)\n",
    "        \n",
    "        # check if the width and height of the contour is larger than the min width and height\n",
    "        # so the distant vehicles will not be detected\n",
    "        if ((w >= width_min) and (h >= height_min)) is not True:\n",
    "            continue\n",
    "            \n",
    "        cv2.rectangle(frame, (x, y), (x + w, y + h), (0, 255, 0), 2)\n",
    "        center = contour_center(x, y, w, h)\n",
    "        detec.append(center)\n",
    "        \n",
    "        cv2.circle(frame, center, 4, (0, 0, 255), -1)\n",
    "        \n",
    "        for (x, y) in detec:                 \n",
    "            # check if the contour center passes on the line\n",
    "            if (y < (ypos_line + offset)) and (y > (ypos_line-offset)):\n",
    "                vehicles += 1\n",
    "                cv2.line(frame, (25, ypos_line), (1200, ypos_line), (0, 127, 255), 3)\n",
    "                detec.remove((x, y))\n",
    "        \n",
    "    cv2.putText(frame, \"VEHICLE COUNT : \"+str(vehicles), (320, 70), cv2.FONT_HERSHEY_COMPLEX, 2, (0, 0, 255), 4)\n",
    "    \n",
    "    cv2.imshow(\"Video Original\", frame)\n",
    "    cv2.imshow(\"Detectar \", dilate)\n",
    "    \n",
    "    result.write(frame)\n",
    "    \n",
    "    if cv2.waitKey(1) == 27:\n",
    "        break   \n",
    "\n",
    "        \n",
    "cap.release()\n",
    "result.release()        \n",
    "cv2.destroyAllWindows()"
   ]
  },
  {
   "cell_type": "code",
   "execution_count": null,
   "id": "0f9de95f",
   "metadata": {},
   "outputs": [],
   "source": []
  }
 ],
 "metadata": {
  "kernelspec": {
   "display_name": "Python 3 (ipykernel)",
   "language": "python",
   "name": "python3"
  },
  "language_info": {
   "codemirror_mode": {
    "name": "ipython",
    "version": 3
   },
   "file_extension": ".py",
   "mimetype": "text/x-python",
   "name": "python",
   "nbconvert_exporter": "python",
   "pygments_lexer": "ipython3",
   "version": "3.10.13"
  }
 },
 "nbformat": 4,
 "nbformat_minor": 5
}
