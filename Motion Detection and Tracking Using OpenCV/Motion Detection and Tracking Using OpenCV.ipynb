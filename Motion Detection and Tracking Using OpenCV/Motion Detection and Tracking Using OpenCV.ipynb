{
 "cells": [
  {
   "cell_type": "code",
   "execution_count": 2,
   "id": "7ceea054",
   "metadata": {},
   "outputs": [],
   "source": [
    "import numpy as np\n",
    "import cv2"
   ]
  },
  {
   "cell_type": "code",
   "execution_count": 3,
   "id": "41092a7d",
   "metadata": {},
   "outputs": [],
   "source": [
    "vid_path = r\"D:\\Programing\\Projects\\Computer Vision\\Motion Detection and Tracking Using OpenCV\""
   ]
  },
  {
   "cell_type": "code",
   "execution_count": null,
   "id": "28f7206e",
   "metadata": {},
   "outputs": [],
   "source": [
    "cap = cv2.VideoCapture(vid_path + r\"\\test.avi\")\n",
    "\n",
    "fram_width  = int(cap.get(cv2.CAP_PROP_FRAME_WIDTH))\n",
    "fram_height = int(cap.get(cv2.CAP_PROP_FRAME_HEIGHT))\n",
    "\n",
    "fourcc = cv2.VideoWriter_fourcc('X', 'V', 'I', 'D')  #   *XVID\n",
    "out = cv2.VideoWriter(vid_path + r\"\\output.avi\", fourcc, 30, (1280,720))\n",
    "\n",
    "\n",
    "ret, frame1 = cap.read()\n",
    "ret, frame2 = cap.read()\n",
    "\n",
    "while cap.isOpened():\n",
    "    diff = cv2.absdiff(frame1, frame2)\n",
    "    gray = cv2.cvtColor(diff, cv2.COLOR_BGR2GRAY)\n",
    "    \n",
    "    blur = cv2.GaussianBlur(gray, (5,5), 0)\n",
    "    \n",
    "    _,thresh = cv2.threshold(blur, 60, 255, cv2.THRESH_BINARY)\n",
    "    dilated = cv2.dilate(thresh, None, iterations=10)\n",
    "    contures, _ = cv2.findContours(dilated, cv2.RETR_TREE, cv2.CHAIN_APPROX_NONE)\n",
    "    \n",
    "    for conture in contures:\n",
    "        (x, y, w, h) = cv2.boundingRect(conture)\n",
    "        \n",
    "        if cv2.contourArea(conture) < 900:\n",
    "            continue\n",
    "        \n",
    "        cv2.rectangle(frame1, (x,y), (x+w, y+h), (0, 255, 0), 2)\n",
    "        cv2.putText(frame1, \"Status: Movement\", (10, 20), cv2.FONT_HERSHEY_SIMPLEX, 1, (0, 0, 255), 3)\n",
    "        \n",
    "        image = cv2.resize(frame1, (1280, 720))\n",
    "        out.write(image)\n",
    "        cv2.imshow(\"Motion Detection\", image)\n",
    "        \n",
    "        frame1 = frame2\n",
    "        ret, frame2 = cap.read()\n",
    "        \n",
    "        if cv2.waitKey(33) == ord('a'):\n",
    "            break\n",
    "         \n",
    "\n",
    "        \n",
    "cv2.destroyAllWindows()\n",
    "cap.release()\n",
    "out.release()"
   ]
  },
  {
   "cell_type": "code",
   "execution_count": null,
   "id": "7acb2558",
   "metadata": {},
   "outputs": [],
   "source": []
  }
 ],
 "metadata": {
  "kernelspec": {
   "display_name": "Python 3 (ipykernel)",
   "language": "python",
   "name": "python3"
  },
  "language_info": {
   "codemirror_mode": {
    "name": "ipython",
    "version": 3
   },
   "file_extension": ".py",
   "mimetype": "text/x-python",
   "name": "python",
   "nbconvert_exporter": "python",
   "pygments_lexer": "ipython3",
   "version": "3.10.13"
  }
 },
 "nbformat": 4,
 "nbformat_minor": 5
}
